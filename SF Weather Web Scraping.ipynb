{
 "cells": [
  {
   "cell_type": "markdown",
   "id": "miniature-cologne",
   "metadata": {},
   "source": [
    "# Web Scraping with Python Using Beautiful Soup\n",
    "\n",
    "## Extracting San Francisco Weather Data from the National Weather Service Website\n",
    "\n",
    "Note: This was done by following the tutorial by Vik Paruchuri, the CEO and Founder of Dataquest. More information can be found at https://www.dataquest.io/blog/web-scraping-python-using-beautiful-soup/"
   ]
  },
  {
   "cell_type": "code",
   "execution_count": 1,
   "id": "superb-toner",
   "metadata": {},
   "outputs": [],
   "source": [
    "# Importing the necessary libraries\n",
    "import requests\n",
    "from bs4 import BeautifulSoup"
   ]
  },
  {
   "cell_type": "code",
   "execution_count": 2,
   "id": "returning-cutting",
   "metadata": {},
   "outputs": [],
   "source": [
    "# Download the webpage containing the forecast\n",
    "page = requests.get('https://forecast.weather.gov/MapClick.php?lat=37.7772&lon=-122.4168#.YIC6nehKhyw')\n",
    "soup = BeautifulSoup(page.content, 'html.parser')"
   ]
  },
  {
   "cell_type": "code",
   "execution_count": 8,
   "id": "interesting-hopkins",
   "metadata": {},
   "outputs": [],
   "source": [
    "# Returns the entire HTML of the website\n",
    "# For the sake of keeping this notebook short within github, it is commented out below:\n",
    "# print(soup.prettify())"
   ]
  },
  {
   "cell_type": "code",
   "execution_count": 4,
   "id": "brutal-christianity",
   "metadata": {},
   "outputs": [
    {
     "data": {
      "text/plain": [
       "<div class=\"panel panel-default\" id=\"seven-day-forecast\">\n",
       "<div class=\"panel-heading\">\n",
       "<b>Extended Forecast for</b>\n",
       "<h2 class=\"panel-title\">\n",
       "\t    \t    San Francisco CA\t</h2>\n",
       "</div>\n",
       "<div class=\"panel-body\" id=\"seven-day-forecast-body\">\n",
       "<div id=\"seven-day-forecast-container\"><ul class=\"list-unstyled\" id=\"seven-day-forecast-list\"><li class=\"forecast-tombstone\">\n",
       "<div class=\"tombstone-container\">\n",
       "<p class=\"period-name\">This<br/>Afternoon</p>\n",
       "<p><img alt=\"This Afternoon: Sunny, with a high near 74. West wind 9 to 14 mph, with gusts as high as 18 mph. \" class=\"forecast-icon\" src=\"newimages/medium/skc.png\" title=\"This Afternoon: Sunny, with a high near 74. West wind 9 to 14 mph, with gusts as high as 18 mph. \"/></p><p class=\"short-desc\">Sunny</p><p class=\"temp temp-high\">High: 74 °F</p></div></li><li class=\"forecast-tombstone\">\n",
       "<div class=\"tombstone-container\">\n",
       "<p class=\"period-name\">Tonight<br/><br/></p>\n",
       "<p><img alt=\"Tonight: Mostly clear, with a low around 55. West wind 5 to 11 mph. \" class=\"forecast-icon\" src=\"newimages/medium/nfew.png\" title=\"Tonight: Mostly clear, with a low around 55. West wind 5 to 11 mph. \"/></p><p class=\"short-desc\">Mostly Clear</p><p class=\"temp temp-low\">Low: 55 °F</p></div></li><li class=\"forecast-tombstone\">\n",
       "<div class=\"tombstone-container\">\n",
       "<p class=\"period-name\">Tuesday<br/><br/></p>\n",
       "<p><img alt=\"Tuesday: Sunny, with a high near 70. West wind 6 to 13 mph. \" class=\"forecast-icon\" src=\"newimages/medium/few.png\" title=\"Tuesday: Sunny, with a high near 70. West wind 6 to 13 mph. \"/></p><p class=\"short-desc\">Sunny</p><p class=\"temp temp-high\">High: 70 °F</p></div></li><li class=\"forecast-tombstone\">\n",
       "<div class=\"tombstone-container\">\n",
       "<p class=\"period-name\">Tuesday<br/>Night</p>\n",
       "<p><img alt=\"Tuesday Night: Mostly clear, with a low around 51. West southwest wind 6 to 15 mph, with gusts as high as 20 mph. \" class=\"forecast-icon\" src=\"newimages/medium/nfew.png\" title=\"Tuesday Night: Mostly clear, with a low around 51. West southwest wind 6 to 15 mph, with gusts as high as 20 mph. \"/></p><p class=\"short-desc\">Mostly Clear</p><p class=\"temp temp-low\">Low: 51 °F</p></div></li><li class=\"forecast-tombstone\">\n",
       "<div class=\"tombstone-container\">\n",
       "<p class=\"period-name\">Wednesday<br/><br/></p>\n",
       "<p><img alt=\"Wednesday: Sunny, with a high near 66. Light west southwest wind increasing to 8 to 13 mph in the afternoon. \" class=\"forecast-icon\" src=\"newimages/medium/few.png\" title=\"Wednesday: Sunny, with a high near 66. Light west southwest wind increasing to 8 to 13 mph in the afternoon. \"/></p><p class=\"short-desc\">Sunny</p><p class=\"temp temp-high\">High: 66 °F</p></div></li><li class=\"forecast-tombstone\">\n",
       "<div class=\"tombstone-container\">\n",
       "<p class=\"period-name\">Wednesday<br/>Night</p>\n",
       "<p><img alt=\"Wednesday Night: Mostly clear, with a low around 51.\" class=\"forecast-icon\" src=\"newimages/medium/nfew.png\" title=\"Wednesday Night: Mostly clear, with a low around 51.\"/></p><p class=\"short-desc\">Mostly Clear</p><p class=\"temp temp-low\">Low: 51 °F</p></div></li><li class=\"forecast-tombstone\">\n",
       "<div class=\"tombstone-container\">\n",
       "<p class=\"period-name\">Thursday<br/><br/></p>\n",
       "<p><img alt=\"Thursday: Mostly sunny, with a high near 63.\" class=\"forecast-icon\" src=\"newimages/medium/sct.png\" title=\"Thursday: Mostly sunny, with a high near 63.\"/></p><p class=\"short-desc\">Mostly Sunny</p><p class=\"temp temp-high\">High: 63 °F</p></div></li><li class=\"forecast-tombstone\">\n",
       "<div class=\"tombstone-container\">\n",
       "<p class=\"period-name\">Thursday<br/>Night</p>\n",
       "<p><img alt=\"Thursday Night: Mostly clear, with a low around 50.\" class=\"forecast-icon\" src=\"newimages/medium/nfew.png\" title=\"Thursday Night: Mostly clear, with a low around 50.\"/></p><p class=\"short-desc\">Mostly Clear</p><p class=\"temp temp-low\">Low: 50 °F</p></div></li><li class=\"forecast-tombstone\">\n",
       "<div class=\"tombstone-container\">\n",
       "<p class=\"period-name\">Friday<br/><br/></p>\n",
       "<p><img alt=\"Friday: Sunny, with a high near 65.\" class=\"forecast-icon\" src=\"newimages/medium/few.png\" title=\"Friday: Sunny, with a high near 65.\"/></p><p class=\"short-desc\">Sunny</p><p class=\"temp temp-high\">High: 65 °F</p></div></li></ul></div>\n",
       "<script type=\"text/javascript\">\n",
       "// equalize forecast heights\n",
       "$(function () {\n",
       "\tvar maxh = 0;\n",
       "\t$(\".forecast-tombstone .short-desc\").each(function () {\n",
       "\t\tvar h = $(this).height();\n",
       "\t\tif (h > maxh) { maxh = h; }\n",
       "\t});\n",
       "\t$(\".forecast-tombstone .short-desc\").height(maxh);\n",
       "});\n",
       "</script> </div>\n",
       "</div>"
      ]
     },
     "execution_count": 4,
     "metadata": {},
     "output_type": "execute_result"
    }
   ],
   "source": [
    "# Returns only the bit of HTML with the seven day forecast\n",
    "seven_day = soup.find(id='seven-day-forecast')\n",
    "seven_day"
   ]
  },
  {
   "cell_type": "markdown",
   "id": "extensive-confusion",
   "metadata": {},
   "source": [
    "### Part 1: Extracting information from the page \n",
    "\n",
    "This section is just a test to see where we can extract the information we want. "
   ]
  },
  {
   "cell_type": "code",
   "execution_count": 6,
   "id": "alike-immunology",
   "metadata": {},
   "outputs": [],
   "source": [
    "forecast_items = seven_day.find_all(class_='tombstone-container')"
   ]
  },
  {
   "cell_type": "code",
   "execution_count": 7,
   "id": "included-julian",
   "metadata": {},
   "outputs": [],
   "source": [
    "tonight = forecast_items[0]"
   ]
  },
  {
   "cell_type": "code",
   "execution_count": 8,
   "id": "charming-daily",
   "metadata": {},
   "outputs": [
    {
     "name": "stdout",
     "output_type": "stream",
     "text": [
      "<div class=\"tombstone-container\">\n",
      " <p class=\"period-name\">\n",
      "  Tonight\n",
      "  <br/>\n",
      "  <br/>\n",
      " </p>\n",
      " <p>\n",
      "  <img alt=\"Tonight: Patchy drizzle after 11pm.  Mostly cloudy, with a low around 53. West wind 11 to 18 mph, with gusts as high as 24 mph. \" class=\"forecast-icon\" src=\"newimages/medium/nra.png\" title=\"Tonight: Patchy drizzle after 11pm.  Mostly cloudy, with a low around 53. West wind 11 to 18 mph, with gusts as high as 24 mph. \"/>\n",
      " </p>\n",
      " <p class=\"short-desc\">\n",
      "  Patchy\n",
      "  <br/>\n",
      "  Drizzle\n",
      " </p>\n",
      " <p class=\"temp temp-low\">\n",
      "  Low: 53 °F\n",
      " </p>\n",
      "</div>\n"
     ]
    }
   ],
   "source": [
    "print(tonight.prettify())"
   ]
  },
  {
   "cell_type": "code",
   "execution_count": 9,
   "id": "silver-anthony",
   "metadata": {},
   "outputs": [],
   "source": [
    "period = tonight.find(class_='period-name').get_text()"
   ]
  },
  {
   "cell_type": "code",
   "execution_count": 10,
   "id": "eight-relative",
   "metadata": {},
   "outputs": [
    {
     "name": "stdout",
     "output_type": "stream",
     "text": [
      "Tonight\n"
     ]
    }
   ],
   "source": [
    "print(period)"
   ]
  },
  {
   "cell_type": "code",
   "execution_count": 11,
   "id": "industrial-moore",
   "metadata": {},
   "outputs": [
    {
     "name": "stdout",
     "output_type": "stream",
     "text": [
      "PatchyDrizzle\n"
     ]
    }
   ],
   "source": [
    "short_desc = tonight.find(class_='short-desc').get_text()\n",
    "print(short_desc)"
   ]
  },
  {
   "cell_type": "code",
   "execution_count": 12,
   "id": "touched-doctrine",
   "metadata": {},
   "outputs": [
    {
     "name": "stdout",
     "output_type": "stream",
     "text": [
      "Low: 53 °F\n"
     ]
    }
   ],
   "source": [
    "temp = tonight.find(class_=\"temp\").get_text()\n",
    "print(temp)"
   ]
  },
  {
   "cell_type": "code",
   "execution_count": 13,
   "id": "independent-section",
   "metadata": {},
   "outputs": [
    {
     "name": "stdout",
     "output_type": "stream",
     "text": [
      "Tonight: Patchy drizzle after 11pm.  Mostly cloudy, with a low around 53. West wind 11 to 18 mph, with gusts as high as 24 mph. \n"
     ]
    }
   ],
   "source": [
    "img = tonight.find(\"img\")\n",
    "desc = img['title']\n",
    "print(desc)"
   ]
  },
  {
   "cell_type": "markdown",
   "id": "dated-relation",
   "metadata": {},
   "source": [
    "### Part 2: Extracting ALL the information on the page\n",
    "\n",
    "Knowing each individual piece of information, we can now extract everything at once."
   ]
  },
  {
   "cell_type": "code",
   "execution_count": 14,
   "id": "painted-flood",
   "metadata": {},
   "outputs": [
    {
     "data": {
      "text/plain": [
       "['Tonight',\n",
       " 'Saturday',\n",
       " 'SaturdayNight',\n",
       " 'Sunday',\n",
       " 'SundayNight',\n",
       " 'Monday',\n",
       " 'MondayNight',\n",
       " 'Tuesday',\n",
       " 'TuesdayNight']"
      ]
     },
     "execution_count": 14,
     "metadata": {},
     "output_type": "execute_result"
    }
   ],
   "source": [
    "# Extracting all the periods as a list\n",
    "period_tags = seven_day.select(\".tombstone-container .period-name\")\n",
    "periods = [pt.get_text() for pt in period_tags]\n",
    "periods"
   ]
  },
  {
   "cell_type": "code",
   "execution_count": 16,
   "id": "possible-italian",
   "metadata": {},
   "outputs": [
    {
     "data": {
      "text/plain": [
       "['PatchyDrizzle',\n",
       " 'Sunny',\n",
       " 'Mostly Clear',\n",
       " 'Sunny',\n",
       " 'Clear',\n",
       " 'Sunny',\n",
       " 'Clear',\n",
       " 'Sunny',\n",
       " 'Mostly Clear']"
      ]
     },
     "execution_count": 16,
     "metadata": {},
     "output_type": "execute_result"
    }
   ],
   "source": [
    "# Extracting all the short descriptions as a list\n",
    "short_descs = [sd.get_text() for sd in seven_day.select(\".tombstone-container .short-desc\")]\n",
    "short_descs"
   ]
  },
  {
   "cell_type": "code",
   "execution_count": 17,
   "id": "spanish-encounter",
   "metadata": {},
   "outputs": [
    {
     "data": {
      "text/plain": [
       "['Low: 53 °F',\n",
       " 'High: 64 °F',\n",
       " 'Low: 52 °F',\n",
       " 'High: 69 °F',\n",
       " 'Low: 53 °F',\n",
       " 'High: 72 °F',\n",
       " 'Low: 54 °F',\n",
       " 'High: 71 °F',\n",
       " 'Low: 52 °F']"
      ]
     },
     "execution_count": 17,
     "metadata": {},
     "output_type": "execute_result"
    }
   ],
   "source": [
    "# Extracting all the temperature descriptions as a list\n",
    "temps = [t.get_text() for t in seven_day.select(\".tombstone-container .temp\")]\n",
    "temps"
   ]
  },
  {
   "cell_type": "code",
   "execution_count": 21,
   "id": "severe-oliver",
   "metadata": {},
   "outputs": [
    {
     "data": {
      "text/plain": [
       "['Tonight: Patchy drizzle after 11pm.  Mostly cloudy, with a low around 53. West wind 11 to 18 mph, with gusts as high as 24 mph. ',\n",
       " 'Saturday: Sunny, with a high near 64. West wind 8 to 18 mph, with gusts as high as 23 mph. ',\n",
       " 'Saturday Night: Mostly clear, with a low around 52. West wind 8 to 13 mph. ',\n",
       " 'Sunday: Sunny, with a high near 69. West wind 6 to 9 mph. ',\n",
       " 'Sunday Night: Clear, with a low around 53. West northwest wind 8 to 14 mph, with gusts as high as 18 mph. ',\n",
       " 'Monday: Sunny, with a high near 72.',\n",
       " 'Monday Night: Clear, with a low around 54.',\n",
       " 'Tuesday: Sunny, with a high near 71.',\n",
       " 'Tuesday Night: Mostly clear, with a low around 52.']"
      ]
     },
     "execution_count": 21,
     "metadata": {},
     "output_type": "execute_result"
    }
   ],
   "source": [
    "# Extracting all the long descriptions from the images as a list\n",
    "descs = [d[\"title\"] for d in seven_day.select(\".tombstone-container img\")]\n",
    "descs"
   ]
  },
  {
   "cell_type": "markdown",
   "id": "noticed-duplicate",
   "metadata": {},
   "source": [
    "### Part 3: Combining data into a Pandas Dataframe\n",
    "\n",
    "Now that we have extracted all the data, let's put it into a dataframe to better analyze the data."
   ]
  },
  {
   "cell_type": "code",
   "execution_count": 22,
   "id": "experienced-tiger",
   "metadata": {},
   "outputs": [
    {
     "data": {
      "text/html": [
       "<div>\n",
       "<style scoped>\n",
       "    .dataframe tbody tr th:only-of-type {\n",
       "        vertical-align: middle;\n",
       "    }\n",
       "\n",
       "    .dataframe tbody tr th {\n",
       "        vertical-align: top;\n",
       "    }\n",
       "\n",
       "    .dataframe thead th {\n",
       "        text-align: right;\n",
       "    }\n",
       "</style>\n",
       "<table border=\"1\" class=\"dataframe\">\n",
       "  <thead>\n",
       "    <tr style=\"text-align: right;\">\n",
       "      <th></th>\n",
       "      <th>period</th>\n",
       "      <th>short_des</th>\n",
       "      <th>temp</th>\n",
       "      <th>desc</th>\n",
       "    </tr>\n",
       "  </thead>\n",
       "  <tbody>\n",
       "    <tr>\n",
       "      <th>0</th>\n",
       "      <td>Tonight</td>\n",
       "      <td>PatchyDrizzle</td>\n",
       "      <td>Low: 53 °F</td>\n",
       "      <td>Tonight: Patchy drizzle after 11pm.  Mostly cl...</td>\n",
       "    </tr>\n",
       "    <tr>\n",
       "      <th>1</th>\n",
       "      <td>Saturday</td>\n",
       "      <td>Sunny</td>\n",
       "      <td>High: 64 °F</td>\n",
       "      <td>Saturday: Sunny, with a high near 64. West win...</td>\n",
       "    </tr>\n",
       "    <tr>\n",
       "      <th>2</th>\n",
       "      <td>SaturdayNight</td>\n",
       "      <td>Mostly Clear</td>\n",
       "      <td>Low: 52 °F</td>\n",
       "      <td>Saturday Night: Mostly clear, with a low aroun...</td>\n",
       "    </tr>\n",
       "    <tr>\n",
       "      <th>3</th>\n",
       "      <td>Sunday</td>\n",
       "      <td>Sunny</td>\n",
       "      <td>High: 69 °F</td>\n",
       "      <td>Sunday: Sunny, with a high near 69. West wind ...</td>\n",
       "    </tr>\n",
       "    <tr>\n",
       "      <th>4</th>\n",
       "      <td>SundayNight</td>\n",
       "      <td>Clear</td>\n",
       "      <td>Low: 53 °F</td>\n",
       "      <td>Sunday Night: Clear, with a low around 53. Wes...</td>\n",
       "    </tr>\n",
       "    <tr>\n",
       "      <th>5</th>\n",
       "      <td>Monday</td>\n",
       "      <td>Sunny</td>\n",
       "      <td>High: 72 °F</td>\n",
       "      <td>Monday: Sunny, with a high near 72.</td>\n",
       "    </tr>\n",
       "    <tr>\n",
       "      <th>6</th>\n",
       "      <td>MondayNight</td>\n",
       "      <td>Clear</td>\n",
       "      <td>Low: 54 °F</td>\n",
       "      <td>Monday Night: Clear, with a low around 54.</td>\n",
       "    </tr>\n",
       "    <tr>\n",
       "      <th>7</th>\n",
       "      <td>Tuesday</td>\n",
       "      <td>Sunny</td>\n",
       "      <td>High: 71 °F</td>\n",
       "      <td>Tuesday: Sunny, with a high near 71.</td>\n",
       "    </tr>\n",
       "    <tr>\n",
       "      <th>8</th>\n",
       "      <td>TuesdayNight</td>\n",
       "      <td>Mostly Clear</td>\n",
       "      <td>Low: 52 °F</td>\n",
       "      <td>Tuesday Night: Mostly clear, with a low around...</td>\n",
       "    </tr>\n",
       "  </tbody>\n",
       "</table>\n",
       "</div>"
      ],
      "text/plain": [
       "          period      short_des         temp  \\\n",
       "0        Tonight  PatchyDrizzle   Low: 53 °F   \n",
       "1       Saturday          Sunny  High: 64 °F   \n",
       "2  SaturdayNight   Mostly Clear   Low: 52 °F   \n",
       "3         Sunday          Sunny  High: 69 °F   \n",
       "4    SundayNight          Clear   Low: 53 °F   \n",
       "5         Monday          Sunny  High: 72 °F   \n",
       "6    MondayNight          Clear   Low: 54 °F   \n",
       "7        Tuesday          Sunny  High: 71 °F   \n",
       "8   TuesdayNight   Mostly Clear   Low: 52 °F   \n",
       "\n",
       "                                                desc  \n",
       "0  Tonight: Patchy drizzle after 11pm.  Mostly cl...  \n",
       "1  Saturday: Sunny, with a high near 64. West win...  \n",
       "2  Saturday Night: Mostly clear, with a low aroun...  \n",
       "3  Sunday: Sunny, with a high near 69. West wind ...  \n",
       "4  Sunday Night: Clear, with a low around 53. Wes...  \n",
       "5                Monday: Sunny, with a high near 72.  \n",
       "6         Monday Night: Clear, with a low around 54.  \n",
       "7               Tuesday: Sunny, with a high near 71.  \n",
       "8  Tuesday Night: Mostly clear, with a low around...  "
      ]
     },
     "execution_count": 22,
     "metadata": {},
     "output_type": "execute_result"
    }
   ],
   "source": [
    "import pandas as pd\n",
    "# Creating a dataframe from the lists pulled above\n",
    "weather = pd.DataFrame({\n",
    "    \"period\": periods,\n",
    "    \"short_des\": short_descs,\n",
    "    \"temp\": temps,\n",
    "    \"desc\": descs\n",
    "})\n",
    "weather"
   ]
  },
  {
   "cell_type": "code",
   "execution_count": 9,
   "id": "analyzed-disclosure",
   "metadata": {},
   "outputs": [
    {
     "ename": "NameError",
     "evalue": "name 'weather' is not defined",
     "output_type": "error",
     "traceback": [
      "\u001b[1;31m---------------------------------------------------------------------------\u001b[0m",
      "\u001b[1;31mNameError\u001b[0m                                 Traceback (most recent call last)",
      "\u001b[1;32m<ipython-input-9-acb348aaf8e5>\u001b[0m in \u001b[0;36m<module>\u001b[1;34m\u001b[0m\n\u001b[0;32m      1\u001b[0m \u001b[1;31m# Get only the numerical temperature from the column 'temp'\u001b[0m\u001b[1;33m\u001b[0m\u001b[1;33m\u001b[0m\u001b[1;33m\u001b[0m\u001b[0m\n\u001b[1;32m----> 2\u001b[1;33m \u001b[0mtemp_nums\u001b[0m \u001b[1;33m=\u001b[0m \u001b[0mweather\u001b[0m\u001b[1;33m[\u001b[0m\u001b[1;34m\"temp\"\u001b[0m\u001b[1;33m]\u001b[0m\u001b[1;33m.\u001b[0m\u001b[0mstr\u001b[0m\u001b[1;33m.\u001b[0m\u001b[0mextract\u001b[0m\u001b[1;33m(\u001b[0m\u001b[1;34m'(\\d+)'\u001b[0m\u001b[1;33m,\u001b[0m \u001b[0mexpand\u001b[0m\u001b[1;33m=\u001b[0m\u001b[1;32mFalse\u001b[0m\u001b[1;33m)\u001b[0m\u001b[1;33m\u001b[0m\u001b[1;33m\u001b[0m\u001b[0m\n\u001b[0m\u001b[0;32m      3\u001b[0m \u001b[0mtemp_nums\u001b[0m\u001b[1;33m\u001b[0m\u001b[1;33m\u001b[0m\u001b[0m\n",
      "\u001b[1;31mNameError\u001b[0m: name 'weather' is not defined"
     ]
    }
   ],
   "source": [
    "# Get only the numerical temperature from the column 'temp'\n",
    "temp_nums = weather[\"temp\"].str.extract('(\\d+)', expand=False)\n",
    "temp_nums"
   ]
  },
  {
   "cell_type": "code",
   "execution_count": 35,
   "id": "suspected-european",
   "metadata": {},
   "outputs": [
    {
     "data": {
      "text/plain": [
       "0    53\n",
       "1    64\n",
       "2    52\n",
       "3    69\n",
       "4    53\n",
       "5    72\n",
       "6    54\n",
       "7    71\n",
       "8    52\n",
       "Name: temp, dtype: object"
      ]
     },
     "execution_count": 35,
     "metadata": {},
     "output_type": "execute_result"
    }
   ],
   "source": [
    "weather[\"temp_num\"] = temp_nums.astype('int')\n",
    "temp_nums"
   ]
  },
  {
   "cell_type": "code",
   "execution_count": 36,
   "id": "necessary-evidence",
   "metadata": {},
   "outputs": [
    {
     "data": {
      "text/plain": [
       "60.0"
      ]
     },
     "execution_count": 36,
     "metadata": {},
     "output_type": "execute_result"
    }
   ],
   "source": [
    "# Mean of all the high and low temperatures\n",
    "weather['temp_num'].mean()"
   ]
  },
  {
   "cell_type": "code",
   "execution_count": 37,
   "id": "jewish-italy",
   "metadata": {},
   "outputs": [
    {
     "data": {
      "text/plain": [
       "0     True\n",
       "1    False\n",
       "2     True\n",
       "3    False\n",
       "4     True\n",
       "5    False\n",
       "6     True\n",
       "7    False\n",
       "8     True\n",
       "Name: temp, dtype: bool"
      ]
     },
     "execution_count": 37,
     "metadata": {},
     "output_type": "execute_result"
    }
   ],
   "source": [
    "# Selecting only the Night rows\n",
    "is_night = weather[\"temp\"].str.contains(\"Low\")\n",
    "weather[\"is_night\"] = is_night\n",
    "is_night"
   ]
  },
  {
   "cell_type": "code",
   "execution_count": 38,
   "id": "professional-garlic",
   "metadata": {},
   "outputs": [
    {
     "data": {
      "text/html": [
       "<div>\n",
       "<style scoped>\n",
       "    .dataframe tbody tr th:only-of-type {\n",
       "        vertical-align: middle;\n",
       "    }\n",
       "\n",
       "    .dataframe tbody tr th {\n",
       "        vertical-align: top;\n",
       "    }\n",
       "\n",
       "    .dataframe thead th {\n",
       "        text-align: right;\n",
       "    }\n",
       "</style>\n",
       "<table border=\"1\" class=\"dataframe\">\n",
       "  <thead>\n",
       "    <tr style=\"text-align: right;\">\n",
       "      <th></th>\n",
       "      <th>period</th>\n",
       "      <th>short_des</th>\n",
       "      <th>temp</th>\n",
       "      <th>desc</th>\n",
       "      <th>temp_num</th>\n",
       "      <th>is_night</th>\n",
       "    </tr>\n",
       "  </thead>\n",
       "  <tbody>\n",
       "    <tr>\n",
       "      <th>0</th>\n",
       "      <td>Tonight</td>\n",
       "      <td>PatchyDrizzle</td>\n",
       "      <td>Low: 53 °F</td>\n",
       "      <td>Tonight: Patchy drizzle after 11pm.  Mostly cl...</td>\n",
       "      <td>53</td>\n",
       "      <td>True</td>\n",
       "    </tr>\n",
       "    <tr>\n",
       "      <th>2</th>\n",
       "      <td>SaturdayNight</td>\n",
       "      <td>Mostly Clear</td>\n",
       "      <td>Low: 52 °F</td>\n",
       "      <td>Saturday Night: Mostly clear, with a low aroun...</td>\n",
       "      <td>52</td>\n",
       "      <td>True</td>\n",
       "    </tr>\n",
       "    <tr>\n",
       "      <th>4</th>\n",
       "      <td>SundayNight</td>\n",
       "      <td>Clear</td>\n",
       "      <td>Low: 53 °F</td>\n",
       "      <td>Sunday Night: Clear, with a low around 53. Wes...</td>\n",
       "      <td>53</td>\n",
       "      <td>True</td>\n",
       "    </tr>\n",
       "    <tr>\n",
       "      <th>6</th>\n",
       "      <td>MondayNight</td>\n",
       "      <td>Clear</td>\n",
       "      <td>Low: 54 °F</td>\n",
       "      <td>Monday Night: Clear, with a low around 54.</td>\n",
       "      <td>54</td>\n",
       "      <td>True</td>\n",
       "    </tr>\n",
       "    <tr>\n",
       "      <th>8</th>\n",
       "      <td>TuesdayNight</td>\n",
       "      <td>Mostly Clear</td>\n",
       "      <td>Low: 52 °F</td>\n",
       "      <td>Tuesday Night: Mostly clear, with a low around...</td>\n",
       "      <td>52</td>\n",
       "      <td>True</td>\n",
       "    </tr>\n",
       "  </tbody>\n",
       "</table>\n",
       "</div>"
      ],
      "text/plain": [
       "          period      short_des        temp  \\\n",
       "0        Tonight  PatchyDrizzle  Low: 53 °F   \n",
       "2  SaturdayNight   Mostly Clear  Low: 52 °F   \n",
       "4    SundayNight          Clear  Low: 53 °F   \n",
       "6    MondayNight          Clear  Low: 54 °F   \n",
       "8   TuesdayNight   Mostly Clear  Low: 52 °F   \n",
       "\n",
       "                                                desc  temp_num  is_night  \n",
       "0  Tonight: Patchy drizzle after 11pm.  Mostly cl...        53      True  \n",
       "2  Saturday Night: Mostly clear, with a low aroun...        52      True  \n",
       "4  Sunday Night: Clear, with a low around 53. Wes...        53      True  \n",
       "6         Monday Night: Clear, with a low around 54.        54      True  \n",
       "8  Tuesday Night: Mostly clear, with a low around...        52      True  "
      ]
     },
     "execution_count": 38,
     "metadata": {},
     "output_type": "execute_result"
    }
   ],
   "source": [
    "# Displays the new dataframe with only \"night\" tempatures and descriptions\n",
    "weather[is_night]"
   ]
  },
  {
   "cell_type": "code",
   "execution_count": null,
   "id": "suitable-strategy",
   "metadata": {},
   "outputs": [],
   "source": []
  }
 ],
 "metadata": {
  "kernelspec": {
   "display_name": "Python 3",
   "language": "python",
   "name": "python3"
  },
  "language_info": {
   "codemirror_mode": {
    "name": "ipython",
    "version": 3
   },
   "file_extension": ".py",
   "mimetype": "text/x-python",
   "name": "python",
   "nbconvert_exporter": "python",
   "pygments_lexer": "ipython3",
   "version": "3.7.9"
  }
 },
 "nbformat": 4,
 "nbformat_minor": 5
}
