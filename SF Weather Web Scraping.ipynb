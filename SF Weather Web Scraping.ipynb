{
 "cells": [
  {
   "cell_type": "markdown",
   "id": "miniature-cologne",
   "metadata": {},
   "source": [
    "# Web Scraping with Python Using Beautiful Soup\n",
    "\n",
    "## Extracting San Francisco Weather Data from the National Weather Service Website\n",
    "\n",
    "Note: This was done by following the tutorial by Vik Paruchuri, the CEO and Founder of Dataquest. More information can be found at https://www.dataquest.io/blog/web-scraping-python-using-beautiful-soup/"
   ]
  },
  {
   "cell_type": "code",
   "execution_count": 1,
   "id": "superb-toner",
   "metadata": {},
   "outputs": [],
   "source": [
    "# Importing the necessary libraries\n",
    "import requests\n",
    "from bs4 import BeautifulSoup"
   ]
  },
  {
   "cell_type": "code",
   "execution_count": 2,
   "id": "returning-cutting",
   "metadata": {},
   "outputs": [],
   "source": [
    "# Download the webpage containing the forecast\n",
    "page = requests.get('https://forecast.weather.gov/MapClick.php?lat=37.7772&lon=-122.4168#.YIC6nehKhyw')\n",
    "soup = BeautifulSoup(page.content, 'html.parser')"
   ]
  },
  {
   "cell_type": "code",
   "execution_count": 3,
   "id": "interesting-hopkins",
   "metadata": {},
   "outputs": [],
   "source": [
    "# Returns the entire HTML of the website\n",
    "# For the sake of keeping this notebook short within github, it is commented out below:\n",
    "# print(soup.prettify())"
   ]
  },
  {
   "cell_type": "code",
   "execution_count": 4,
   "id": "brutal-christianity",
   "metadata": {},
   "outputs": [
    {
     "data": {
      "text/plain": [
       "<div class=\"panel panel-default\" id=\"seven-day-forecast\">\n",
       "<div class=\"panel-heading\">\n",
       "<b>Extended Forecast for</b>\n",
       "<h2 class=\"panel-title\">\n",
       "\t    \t    San Francisco CA\t</h2>\n",
       "</div>\n",
       "<div class=\"panel-body\" id=\"seven-day-forecast-body\">\n",
       "<div id=\"seven-day-forecast-container\"><ul class=\"list-unstyled\" id=\"seven-day-forecast-list\"><li class=\"forecast-tombstone\">\n",
       "<div class=\"tombstone-container\">\n",
       "<p class=\"period-name\">Tonight<br/><br/></p>\n",
       "<p><img alt=\"Tonight: Mostly clear, with a low around 56. West wind 5 to 15 mph, with gusts as high as 18 mph. \" class=\"forecast-icon\" src=\"newimages/medium/nfew.png\" title=\"Tonight: Mostly clear, with a low around 56. West wind 5 to 15 mph, with gusts as high as 18 mph. \"/></p><p class=\"short-desc\">Mostly Clear</p><p class=\"temp temp-low\">Low: 56 °F</p></div></li><li class=\"forecast-tombstone\">\n",
       "<div class=\"tombstone-container\">\n",
       "<p class=\"period-name\">Tuesday<br/><br/></p>\n",
       "<p><img alt=\"Tuesday: Sunny, with a high near 70. Light west wind increasing to 9 to 14 mph in the afternoon. Winds could gust as high as 18 mph. \" class=\"forecast-icon\" src=\"newimages/medium/few.png\" title=\"Tuesday: Sunny, with a high near 70. Light west wind increasing to 9 to 14 mph in the afternoon. Winds could gust as high as 18 mph. \"/></p><p class=\"short-desc\">Sunny</p><p class=\"temp temp-high\">High: 70 °F</p></div></li><li class=\"forecast-tombstone\">\n",
       "<div class=\"tombstone-container\">\n",
       "<p class=\"period-name\">Tuesday<br/>Night</p>\n",
       "<p><img alt=\"Tuesday Night: Mostly clear, with a low around 51. West southwest wind 6 to 14 mph, with gusts as high as 18 mph. \" class=\"forecast-icon\" src=\"newimages/medium/nfew.png\" title=\"Tuesday Night: Mostly clear, with a low around 51. West southwest wind 6 to 14 mph, with gusts as high as 18 mph. \"/></p><p class=\"short-desc\">Mostly Clear</p><p class=\"temp temp-low\">Low: 51 °F</p></div></li><li class=\"forecast-tombstone\">\n",
       "<div class=\"tombstone-container\">\n",
       "<p class=\"period-name\">Wednesday<br/><br/></p>\n",
       "<p><img alt=\"Wednesday: Sunny, with a high near 67. Light west southwest wind increasing to 8 to 13 mph in the afternoon. \" class=\"forecast-icon\" src=\"newimages/medium/few.png\" title=\"Wednesday: Sunny, with a high near 67. Light west southwest wind increasing to 8 to 13 mph in the afternoon. \"/></p><p class=\"short-desc\">Sunny</p><p class=\"temp temp-high\">High: 67 °F</p></div></li><li class=\"forecast-tombstone\">\n",
       "<div class=\"tombstone-container\">\n",
       "<p class=\"period-name\">Wednesday<br/>Night</p>\n",
       "<p><img alt=\"Wednesday Night: Mostly clear, with a low around 51. West wind 9 to 11 mph. \" class=\"forecast-icon\" src=\"newimages/medium/nfew.png\" title=\"Wednesday Night: Mostly clear, with a low around 51. West wind 9 to 11 mph. \"/></p><p class=\"short-desc\">Mostly Clear</p><p class=\"temp temp-low\">Low: 51 °F</p></div></li><li class=\"forecast-tombstone\">\n",
       "<div class=\"tombstone-container\">\n",
       "<p class=\"period-name\">Thursday<br/><br/></p>\n",
       "<p><img alt=\"Thursday: Mostly sunny, with a high near 64.\" class=\"forecast-icon\" src=\"newimages/medium/sct.png\" title=\"Thursday: Mostly sunny, with a high near 64.\"/></p><p class=\"short-desc\">Mostly Sunny</p><p class=\"temp temp-high\">High: 64 °F</p></div></li><li class=\"forecast-tombstone\">\n",
       "<div class=\"tombstone-container\">\n",
       "<p class=\"period-name\">Thursday<br/>Night</p>\n",
       "<p><img alt=\"Thursday Night: Mostly clear, with a low around 50.\" class=\"forecast-icon\" src=\"newimages/medium/nfew.png\" title=\"Thursday Night: Mostly clear, with a low around 50.\"/></p><p class=\"short-desc\">Mostly Clear</p><p class=\"temp temp-low\">Low: 50 °F</p></div></li><li class=\"forecast-tombstone\">\n",
       "<div class=\"tombstone-container\">\n",
       "<p class=\"period-name\">Friday<br/><br/></p>\n",
       "<p><img alt=\"Friday: Sunny, with a high near 65. Breezy. \" class=\"forecast-icon\" src=\"DualImage.php?i=few&amp;j=wind_few\" title=\"Friday: Sunny, with a high near 65. Breezy. \"/></p><p class=\"short-desc\">Sunny then<br/>Sunny and<br/>Breezy</p><p class=\"temp temp-high\">High: 65 °F</p></div></li><li class=\"forecast-tombstone\">\n",
       "<div class=\"tombstone-container\">\n",
       "<p class=\"period-name\">Friday<br/>Night</p>\n",
       "<p><img alt=\"Friday Night: Clear, with a low around 51. Breezy. \" class=\"forecast-icon\" src=\"DualImage.php?i=nwind_skc&amp;j=nskc\" title=\"Friday Night: Clear, with a low around 51. Breezy. \"/></p><p class=\"short-desc\">Clear and<br/>Breezy then<br/>Clear</p><p class=\"temp temp-low\">Low: 51 °F</p></div></li></ul></div>\n",
       "<script type=\"text/javascript\">\n",
       "// equalize forecast heights\n",
       "$(function () {\n",
       "\tvar maxh = 0;\n",
       "\t$(\".forecast-tombstone .short-desc\").each(function () {\n",
       "\t\tvar h = $(this).height();\n",
       "\t\tif (h > maxh) { maxh = h; }\n",
       "\t});\n",
       "\t$(\".forecast-tombstone .short-desc\").height(maxh);\n",
       "});\n",
       "</script> </div>\n",
       "</div>"
      ]
     },
     "execution_count": 4,
     "metadata": {},
     "output_type": "execute_result"
    }
   ],
   "source": [
    "# Returns only the bit of HTML with the seven day forecast\n",
    "seven_day = soup.find(id='seven-day-forecast')\n",
    "seven_day"
   ]
  },
  {
   "cell_type": "markdown",
   "id": "extensive-confusion",
   "metadata": {},
   "source": [
    "### Part 1: Extracting information from the page \n",
    "\n",
    "This section is just a test to see where we can extract the information we want. "
   ]
  },
  {
   "cell_type": "code",
   "execution_count": 5,
   "id": "alike-immunology",
   "metadata": {},
   "outputs": [],
   "source": [
    "forecast_items = seven_day.find_all(class_='tombstone-container')"
   ]
  },
  {
   "cell_type": "code",
   "execution_count": 6,
   "id": "included-julian",
   "metadata": {},
   "outputs": [],
   "source": [
    "tonight = forecast_items[0]"
   ]
  },
  {
   "cell_type": "code",
   "execution_count": 7,
   "id": "charming-daily",
   "metadata": {},
   "outputs": [
    {
     "name": "stdout",
     "output_type": "stream",
     "text": [
      "<div class=\"tombstone-container\">\n",
      " <p class=\"period-name\">\n",
      "  Tonight\n",
      "  <br/>\n",
      "  <br/>\n",
      " </p>\n",
      " <p>\n",
      "  <img alt=\"Tonight: Mostly clear, with a low around 56. West wind 5 to 15 mph, with gusts as high as 18 mph. \" class=\"forecast-icon\" src=\"newimages/medium/nfew.png\" title=\"Tonight: Mostly clear, with a low around 56. West wind 5 to 15 mph, with gusts as high as 18 mph. \"/>\n",
      " </p>\n",
      " <p class=\"short-desc\">\n",
      "  Mostly Clear\n",
      " </p>\n",
      " <p class=\"temp temp-low\">\n",
      "  Low: 56 °F\n",
      " </p>\n",
      "</div>\n"
     ]
    }
   ],
   "source": [
    "print(tonight.prettify())"
   ]
  },
  {
   "cell_type": "code",
   "execution_count": 8,
   "id": "silver-anthony",
   "metadata": {},
   "outputs": [],
   "source": [
    "period = tonight.find(class_='period-name').get_text()"
   ]
  },
  {
   "cell_type": "code",
   "execution_count": 9,
   "id": "eight-relative",
   "metadata": {},
   "outputs": [
    {
     "name": "stdout",
     "output_type": "stream",
     "text": [
      "Tonight\n"
     ]
    }
   ],
   "source": [
    "print(period)"
   ]
  },
  {
   "cell_type": "code",
   "execution_count": 10,
   "id": "industrial-moore",
   "metadata": {},
   "outputs": [
    {
     "name": "stdout",
     "output_type": "stream",
     "text": [
      "Mostly Clear\n"
     ]
    }
   ],
   "source": [
    "short_desc = tonight.find(class_='short-desc').get_text()\n",
    "print(short_desc)"
   ]
  },
  {
   "cell_type": "code",
   "execution_count": 11,
   "id": "touched-doctrine",
   "metadata": {},
   "outputs": [
    {
     "name": "stdout",
     "output_type": "stream",
     "text": [
      "Low: 56 °F\n"
     ]
    }
   ],
   "source": [
    "temp = tonight.find(class_=\"temp\").get_text()\n",
    "print(temp)"
   ]
  },
  {
   "cell_type": "code",
   "execution_count": 12,
   "id": "independent-section",
   "metadata": {},
   "outputs": [
    {
     "name": "stdout",
     "output_type": "stream",
     "text": [
      "Tonight: Mostly clear, with a low around 56. West wind 5 to 15 mph, with gusts as high as 18 mph. \n"
     ]
    }
   ],
   "source": [
    "img = tonight.find(\"img\")\n",
    "desc = img['title']\n",
    "print(desc)"
   ]
  },
  {
   "cell_type": "markdown",
   "id": "dated-relation",
   "metadata": {},
   "source": [
    "### Part 2: Extracting ALL the information on the page\n",
    "\n",
    "Knowing each individual piece of information, we can now extract everything at once."
   ]
  },
  {
   "cell_type": "code",
   "execution_count": 13,
   "id": "painted-flood",
   "metadata": {},
   "outputs": [
    {
     "data": {
      "text/plain": [
       "['Tonight',\n",
       " 'Tuesday',\n",
       " 'TuesdayNight',\n",
       " 'Wednesday',\n",
       " 'WednesdayNight',\n",
       " 'Thursday',\n",
       " 'ThursdayNight',\n",
       " 'Friday',\n",
       " 'FridayNight']"
      ]
     },
     "execution_count": 13,
     "metadata": {},
     "output_type": "execute_result"
    }
   ],
   "source": [
    "# Extracting all the periods as a list\n",
    "period_tags = seven_day.select(\".tombstone-container .period-name\")\n",
    "periods = [pt.get_text() for pt in period_tags]\n",
    "periods"
   ]
  },
  {
   "cell_type": "code",
   "execution_count": 14,
   "id": "possible-italian",
   "metadata": {},
   "outputs": [
    {
     "data": {
      "text/plain": [
       "['Mostly Clear',\n",
       " 'Sunny',\n",
       " 'Mostly Clear',\n",
       " 'Sunny',\n",
       " 'Mostly Clear',\n",
       " 'Mostly Sunny',\n",
       " 'Mostly Clear',\n",
       " 'Sunny thenSunny andBreezy',\n",
       " 'Clear andBreezy thenClear']"
      ]
     },
     "execution_count": 14,
     "metadata": {},
     "output_type": "execute_result"
    }
   ],
   "source": [
    "# Extracting all the short descriptions as a list\n",
    "short_descs = [sd.get_text() for sd in seven_day.select(\".tombstone-container .short-desc\")]\n",
    "short_descs"
   ]
  },
  {
   "cell_type": "code",
   "execution_count": 15,
   "id": "spanish-encounter",
   "metadata": {},
   "outputs": [
    {
     "data": {
      "text/plain": [
       "['Low: 56 °F',\n",
       " 'High: 70 °F',\n",
       " 'Low: 51 °F',\n",
       " 'High: 67 °F',\n",
       " 'Low: 51 °F',\n",
       " 'High: 64 °F',\n",
       " 'Low: 50 °F',\n",
       " 'High: 65 °F',\n",
       " 'Low: 51 °F']"
      ]
     },
     "execution_count": 15,
     "metadata": {},
     "output_type": "execute_result"
    }
   ],
   "source": [
    "# Extracting all the temperature descriptions as a list\n",
    "temps = [t.get_text() for t in seven_day.select(\".tombstone-container .temp\")]\n",
    "temps"
   ]
  },
  {
   "cell_type": "code",
   "execution_count": 16,
   "id": "severe-oliver",
   "metadata": {},
   "outputs": [
    {
     "data": {
      "text/plain": [
       "['Tonight: Mostly clear, with a low around 56. West wind 5 to 15 mph, with gusts as high as 18 mph. ',\n",
       " 'Tuesday: Sunny, with a high near 70. Light west wind increasing to 9 to 14 mph in the afternoon. Winds could gust as high as 18 mph. ',\n",
       " 'Tuesday Night: Mostly clear, with a low around 51. West southwest wind 6 to 14 mph, with gusts as high as 18 mph. ',\n",
       " 'Wednesday: Sunny, with a high near 67. Light west southwest wind increasing to 8 to 13 mph in the afternoon. ',\n",
       " 'Wednesday Night: Mostly clear, with a low around 51. West wind 9 to 11 mph. ',\n",
       " 'Thursday: Mostly sunny, with a high near 64.',\n",
       " 'Thursday Night: Mostly clear, with a low around 50.',\n",
       " 'Friday: Sunny, with a high near 65. Breezy. ',\n",
       " 'Friday Night: Clear, with a low around 51. Breezy. ']"
      ]
     },
     "execution_count": 16,
     "metadata": {},
     "output_type": "execute_result"
    }
   ],
   "source": [
    "# Extracting all the long descriptions from the images as a list\n",
    "descs = [d[\"title\"] for d in seven_day.select(\".tombstone-container img\")]\n",
    "descs"
   ]
  },
  {
   "cell_type": "markdown",
   "id": "noticed-duplicate",
   "metadata": {},
   "source": [
    "### Part 3: Combining data into a Pandas Dataframe\n",
    "\n",
    "Now that we have extracted all the data, let's put it into a dataframe to better analyze the data."
   ]
  },
  {
   "cell_type": "code",
   "execution_count": 17,
   "id": "experienced-tiger",
   "metadata": {},
   "outputs": [
    {
     "data": {
      "text/html": [
       "<div>\n",
       "<style scoped>\n",
       "    .dataframe tbody tr th:only-of-type {\n",
       "        vertical-align: middle;\n",
       "    }\n",
       "\n",
       "    .dataframe tbody tr th {\n",
       "        vertical-align: top;\n",
       "    }\n",
       "\n",
       "    .dataframe thead th {\n",
       "        text-align: right;\n",
       "    }\n",
       "</style>\n",
       "<table border=\"1\" class=\"dataframe\">\n",
       "  <thead>\n",
       "    <tr style=\"text-align: right;\">\n",
       "      <th></th>\n",
       "      <th>period</th>\n",
       "      <th>short_des</th>\n",
       "      <th>temp</th>\n",
       "      <th>desc</th>\n",
       "    </tr>\n",
       "  </thead>\n",
       "  <tbody>\n",
       "    <tr>\n",
       "      <th>0</th>\n",
       "      <td>Tonight</td>\n",
       "      <td>Mostly Clear</td>\n",
       "      <td>Low: 56 °F</td>\n",
       "      <td>Tonight: Mostly clear, with a low around 56. W...</td>\n",
       "    </tr>\n",
       "    <tr>\n",
       "      <th>1</th>\n",
       "      <td>Tuesday</td>\n",
       "      <td>Sunny</td>\n",
       "      <td>High: 70 °F</td>\n",
       "      <td>Tuesday: Sunny, with a high near 70. Light wes...</td>\n",
       "    </tr>\n",
       "    <tr>\n",
       "      <th>2</th>\n",
       "      <td>TuesdayNight</td>\n",
       "      <td>Mostly Clear</td>\n",
       "      <td>Low: 51 °F</td>\n",
       "      <td>Tuesday Night: Mostly clear, with a low around...</td>\n",
       "    </tr>\n",
       "    <tr>\n",
       "      <th>3</th>\n",
       "      <td>Wednesday</td>\n",
       "      <td>Sunny</td>\n",
       "      <td>High: 67 °F</td>\n",
       "      <td>Wednesday: Sunny, with a high near 67. Light w...</td>\n",
       "    </tr>\n",
       "    <tr>\n",
       "      <th>4</th>\n",
       "      <td>WednesdayNight</td>\n",
       "      <td>Mostly Clear</td>\n",
       "      <td>Low: 51 °F</td>\n",
       "      <td>Wednesday Night: Mostly clear, with a low arou...</td>\n",
       "    </tr>\n",
       "    <tr>\n",
       "      <th>5</th>\n",
       "      <td>Thursday</td>\n",
       "      <td>Mostly Sunny</td>\n",
       "      <td>High: 64 °F</td>\n",
       "      <td>Thursday: Mostly sunny, with a high near 64.</td>\n",
       "    </tr>\n",
       "    <tr>\n",
       "      <th>6</th>\n",
       "      <td>ThursdayNight</td>\n",
       "      <td>Mostly Clear</td>\n",
       "      <td>Low: 50 °F</td>\n",
       "      <td>Thursday Night: Mostly clear, with a low aroun...</td>\n",
       "    </tr>\n",
       "    <tr>\n",
       "      <th>7</th>\n",
       "      <td>Friday</td>\n",
       "      <td>Sunny thenSunny andBreezy</td>\n",
       "      <td>High: 65 °F</td>\n",
       "      <td>Friday: Sunny, with a high near 65. Breezy.</td>\n",
       "    </tr>\n",
       "    <tr>\n",
       "      <th>8</th>\n",
       "      <td>FridayNight</td>\n",
       "      <td>Clear andBreezy thenClear</td>\n",
       "      <td>Low: 51 °F</td>\n",
       "      <td>Friday Night: Clear, with a low around 51. Bre...</td>\n",
       "    </tr>\n",
       "  </tbody>\n",
       "</table>\n",
       "</div>"
      ],
      "text/plain": [
       "           period                  short_des         temp  \\\n",
       "0         Tonight               Mostly Clear   Low: 56 °F   \n",
       "1         Tuesday                      Sunny  High: 70 °F   \n",
       "2    TuesdayNight               Mostly Clear   Low: 51 °F   \n",
       "3       Wednesday                      Sunny  High: 67 °F   \n",
       "4  WednesdayNight               Mostly Clear   Low: 51 °F   \n",
       "5        Thursday               Mostly Sunny  High: 64 °F   \n",
       "6   ThursdayNight               Mostly Clear   Low: 50 °F   \n",
       "7          Friday  Sunny thenSunny andBreezy  High: 65 °F   \n",
       "8     FridayNight  Clear andBreezy thenClear   Low: 51 °F   \n",
       "\n",
       "                                                desc  \n",
       "0  Tonight: Mostly clear, with a low around 56. W...  \n",
       "1  Tuesday: Sunny, with a high near 70. Light wes...  \n",
       "2  Tuesday Night: Mostly clear, with a low around...  \n",
       "3  Wednesday: Sunny, with a high near 67. Light w...  \n",
       "4  Wednesday Night: Mostly clear, with a low arou...  \n",
       "5       Thursday: Mostly sunny, with a high near 64.  \n",
       "6  Thursday Night: Mostly clear, with a low aroun...  \n",
       "7       Friday: Sunny, with a high near 65. Breezy.   \n",
       "8  Friday Night: Clear, with a low around 51. Bre...  "
      ]
     },
     "execution_count": 17,
     "metadata": {},
     "output_type": "execute_result"
    }
   ],
   "source": [
    "import pandas as pd\n",
    "# Creating a dataframe from the lists pulled above\n",
    "weather = pd.DataFrame({\n",
    "    \"period\": periods,\n",
    "    \"short_des\": short_descs,\n",
    "    \"temp\": temps,\n",
    "    \"desc\": descs\n",
    "})\n",
    "weather"
   ]
  },
  {
   "cell_type": "code",
   "execution_count": 18,
   "id": "analyzed-disclosure",
   "metadata": {},
   "outputs": [
    {
     "data": {
      "text/plain": [
       "0    56\n",
       "1    70\n",
       "2    51\n",
       "3    67\n",
       "4    51\n",
       "5    64\n",
       "6    50\n",
       "7    65\n",
       "8    51\n",
       "Name: temp, dtype: object"
      ]
     },
     "execution_count": 18,
     "metadata": {},
     "output_type": "execute_result"
    }
   ],
   "source": [
    "# Get only the numerical temperature from the column 'temp'\n",
    "temp_nums = weather[\"temp\"].str.extract('(\\d+)', expand=False)\n",
    "temp_nums"
   ]
  },
  {
   "cell_type": "code",
   "execution_count": 19,
   "id": "suspected-european",
   "metadata": {},
   "outputs": [
    {
     "data": {
      "text/plain": [
       "0    56\n",
       "1    70\n",
       "2    51\n",
       "3    67\n",
       "4    51\n",
       "5    64\n",
       "6    50\n",
       "7    65\n",
       "8    51\n",
       "Name: temp, dtype: object"
      ]
     },
     "execution_count": 19,
     "metadata": {},
     "output_type": "execute_result"
    }
   ],
   "source": [
    "weather[\"temp_num\"] = temp_nums.astype('int')\n",
    "temp_nums"
   ]
  },
  {
   "cell_type": "code",
   "execution_count": 20,
   "id": "necessary-evidence",
   "metadata": {},
   "outputs": [
    {
     "data": {
      "text/plain": [
       "58.333333333333336"
      ]
     },
     "execution_count": 20,
     "metadata": {},
     "output_type": "execute_result"
    }
   ],
   "source": [
    "# Mean of all the high and low temperatures\n",
    "weather['temp_num'].mean()"
   ]
  },
  {
   "cell_type": "code",
   "execution_count": 21,
   "id": "jewish-italy",
   "metadata": {},
   "outputs": [
    {
     "data": {
      "text/plain": [
       "0     True\n",
       "1    False\n",
       "2     True\n",
       "3    False\n",
       "4     True\n",
       "5    False\n",
       "6     True\n",
       "7    False\n",
       "8     True\n",
       "Name: temp, dtype: bool"
      ]
     },
     "execution_count": 21,
     "metadata": {},
     "output_type": "execute_result"
    }
   ],
   "source": [
    "# Selecting only the Night rows\n",
    "is_night = weather[\"temp\"].str.contains(\"Low\")\n",
    "weather[\"is_night\"] = is_night\n",
    "is_night"
   ]
  },
  {
   "cell_type": "code",
   "execution_count": 22,
   "id": "professional-garlic",
   "metadata": {},
   "outputs": [
    {
     "data": {
      "text/html": [
       "<div>\n",
       "<style scoped>\n",
       "    .dataframe tbody tr th:only-of-type {\n",
       "        vertical-align: middle;\n",
       "    }\n",
       "\n",
       "    .dataframe tbody tr th {\n",
       "        vertical-align: top;\n",
       "    }\n",
       "\n",
       "    .dataframe thead th {\n",
       "        text-align: right;\n",
       "    }\n",
       "</style>\n",
       "<table border=\"1\" class=\"dataframe\">\n",
       "  <thead>\n",
       "    <tr style=\"text-align: right;\">\n",
       "      <th></th>\n",
       "      <th>period</th>\n",
       "      <th>short_des</th>\n",
       "      <th>temp</th>\n",
       "      <th>desc</th>\n",
       "      <th>temp_num</th>\n",
       "      <th>is_night</th>\n",
       "    </tr>\n",
       "  </thead>\n",
       "  <tbody>\n",
       "    <tr>\n",
       "      <th>0</th>\n",
       "      <td>Tonight</td>\n",
       "      <td>Mostly Clear</td>\n",
       "      <td>Low: 56 °F</td>\n",
       "      <td>Tonight: Mostly clear, with a low around 56. W...</td>\n",
       "      <td>56</td>\n",
       "      <td>True</td>\n",
       "    </tr>\n",
       "    <tr>\n",
       "      <th>2</th>\n",
       "      <td>TuesdayNight</td>\n",
       "      <td>Mostly Clear</td>\n",
       "      <td>Low: 51 °F</td>\n",
       "      <td>Tuesday Night: Mostly clear, with a low around...</td>\n",
       "      <td>51</td>\n",
       "      <td>True</td>\n",
       "    </tr>\n",
       "    <tr>\n",
       "      <th>4</th>\n",
       "      <td>WednesdayNight</td>\n",
       "      <td>Mostly Clear</td>\n",
       "      <td>Low: 51 °F</td>\n",
       "      <td>Wednesday Night: Mostly clear, with a low arou...</td>\n",
       "      <td>51</td>\n",
       "      <td>True</td>\n",
       "    </tr>\n",
       "    <tr>\n",
       "      <th>6</th>\n",
       "      <td>ThursdayNight</td>\n",
       "      <td>Mostly Clear</td>\n",
       "      <td>Low: 50 °F</td>\n",
       "      <td>Thursday Night: Mostly clear, with a low aroun...</td>\n",
       "      <td>50</td>\n",
       "      <td>True</td>\n",
       "    </tr>\n",
       "    <tr>\n",
       "      <th>8</th>\n",
       "      <td>FridayNight</td>\n",
       "      <td>Clear andBreezy thenClear</td>\n",
       "      <td>Low: 51 °F</td>\n",
       "      <td>Friday Night: Clear, with a low around 51. Bre...</td>\n",
       "      <td>51</td>\n",
       "      <td>True</td>\n",
       "    </tr>\n",
       "  </tbody>\n",
       "</table>\n",
       "</div>"
      ],
      "text/plain": [
       "           period                  short_des        temp  \\\n",
       "0         Tonight               Mostly Clear  Low: 56 °F   \n",
       "2    TuesdayNight               Mostly Clear  Low: 51 °F   \n",
       "4  WednesdayNight               Mostly Clear  Low: 51 °F   \n",
       "6   ThursdayNight               Mostly Clear  Low: 50 °F   \n",
       "8     FridayNight  Clear andBreezy thenClear  Low: 51 °F   \n",
       "\n",
       "                                                desc  temp_num  is_night  \n",
       "0  Tonight: Mostly clear, with a low around 56. W...        56      True  \n",
       "2  Tuesday Night: Mostly clear, with a low around...        51      True  \n",
       "4  Wednesday Night: Mostly clear, with a low arou...        51      True  \n",
       "6  Thursday Night: Mostly clear, with a low aroun...        50      True  \n",
       "8  Friday Night: Clear, with a low around 51. Bre...        51      True  "
      ]
     },
     "execution_count": 22,
     "metadata": {},
     "output_type": "execute_result"
    }
   ],
   "source": [
    "# Displays the new dataframe with only \"night\" tempatures and descriptions\n",
    "weather[is_night]"
   ]
  }
 ],
 "metadata": {
  "kernelspec": {
   "display_name": "Python 3",
   "language": "python",
   "name": "python3"
  },
  "language_info": {
   "codemirror_mode": {
    "name": "ipython",
    "version": 3
   },
   "file_extension": ".py",
   "mimetype": "text/x-python",
   "name": "python",
   "nbconvert_exporter": "python",
   "pygments_lexer": "ipython3",
   "version": "3.7.9"
  }
 },
 "nbformat": 4,
 "nbformat_minor": 5
}
